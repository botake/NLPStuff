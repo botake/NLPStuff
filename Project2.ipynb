{
 "cells": [
  {
   "cell_type": "markdown",
   "id": "a6c0949f",
   "metadata": {},
   "source": [
    "### Homework 2"
   ]
  },
  {
   "cell_type": "code",
   "execution_count": 17,
   "id": "8ca3efce",
   "metadata": {},
   "outputs": [],
   "source": [
    "# Import relevant packages\n",
    "import matplotlib.pyplot as plt\n",
    "%matplotlib inline\n",
    "\n",
    "import numpy as np\n",
    "import pandas as pd\n",
    "import seaborn as sns\n",
    "\n",
    "from sklearn.linear_model import LogisticRegression\n",
    "from sklearn.preprocessing import StandardScaler\n",
    "from sklearn.metrics import plot_confusion_matrix, auc, roc_curve, plot_roc_curve, plot_precision_recall_curve\n",
    "from sklearn.metrics import make_scorer, accuracy_score, recall_score, roc_auc_score\n",
    "from sklearn.model_selection import cross_val_score, train_test_split, GridSearchCV\n",
    "from sklearn.ensemble import RandomForestClassifier, BaggingClassifier, AdaBoostClassifier\n",
    "from sklearn.svm import SVC, LinearSVC\n",
    "from sklearn.tree import DecisionTreeClassifier\n",
    "from sklearn.tree import plot_tree\n",
    "\n",
    "import statsmodels.api as sm"
   ]
  },
  {
   "cell_type": "code",
   "execution_count": 8,
   "id": "372e8218",
   "metadata": {},
   "outputs": [],
   "source": [
    "df = pd.read_excel(r'/Users/benshi/Downloads/default_data.xls').drop([0])\n",
    "df = df.iloc[:,1:]\n",
    "\n",
    "# Specify target and covariate data\n",
    "# Using the most relevant X predictors calculated in HW 1, since it took WAY too long to run SVM on the full \n",
    "# dataset\n",
    "X = df[['X6', 'X7', 'X8', 'X9', 'X10']]\n",
    "y = df['Y']\n",
    "\n",
    "# Replace missing with column mean\n",
    "X = X.fillna(X.mean()) \n",
    "\n",
    "# Clip the data at 2% tails\n",
    "X = X.clip(lower=X.quantile(0.02), upper=X.quantile(0.98), axis=1)\n",
    "\n",
    "# Normalizing scale\n",
    "scaler = StandardScaler()\n",
    "X = scaler.fit_transform(X)\n",
    "\n",
    "# Splitting testing and training\n",
    "X_train, X_test, y_train, y_test = train_test_split(X, y, test_size=0.2, random_state=1)\n",
    "\n",
    "# Converting to float:\n",
    "X_train = X_train.astype(float)\n",
    "y_train = y_train.astype(float)\n",
    "X_test = X_test.astype(float)\n",
    "y_test = y_test.astype(float)\n"
   ]
  },
  {
   "cell_type": "markdown",
   "id": "1cd0aa77",
   "metadata": {},
   "source": [
    "(a) (SVM). This part of the question asks you to use the SVM approach to predict default. For all performance evaluation, you should start by leaving out 20% of your data for testing, and report the out-of-sample metrics (e.g. ROC AUC):\n",
    "(i) Fit the SVM using linear, Gaussian (RBF in sklearn) and polynomial kernals. Compare the ROC AUC for the training data and the ROC AUC area for the cross validation (test) data. Provide some intuition for your results, especially on how different kernals perform differently. (HINT: For this step, you should change γ and C while fixing the kernel to be ‘linear’, ‘rbf’, and ‘poly’ each time. The idea is that you’re finding the “best” linear (poly, rbf) SVM.)"
   ]
  },
  {
   "cell_type": "code",
   "execution_count": 4,
   "id": "8e643e79",
   "metadata": {},
   "outputs": [
    {
     "name": "stdout",
     "output_type": "stream",
     "text": [
      "Fitting 5 folds for each of 6 candidates, totalling 30 fits\n",
      "Fitting 5 folds for each of 6 candidates, totalling 30 fits\n",
      "Fitting 5 folds for each of 6 candidates, totalling 30 fits\n",
      "Best Score for linear kernel:   0.686750344194014\n",
      "Best Params for linear kernel:  {'C': 1, 'class_weight': 'balanced', 'gamma': 0.001, 'kernel': 'linear', 'max_iter': 100000000.0}\n",
      "Best Score for polynomial kernel:   0.7026371552833273\n",
      "Best Params for polynomial kernel:  {'C': 10, 'class_weight': 'balanced', 'gamma': 0.1, 'kernel': 'poly', 'max_iter': 100000000.0}\n",
      "Best Score for rbf kernel:   0.7058645200368978\n",
      "Best Params for rbf kernel:  {'C': 1, 'class_weight': 'balanced', 'gamma': 0.1, 'kernel': 'rbf', 'max_iter': 100000000.0}\n",
      "ROC AUC area for test data, linear kernel: 0.701\n",
      "ROC AUC area for test data, polynomial kernel: 0.707\n",
      "ROC AUC area for test data, rbf kernel: 0.725\n"
     ]
    }
   ],
   "source": [
    "param_grid_lin = dict(C=[1, 10],\n",
    "                  gamma = [0.001, 0.01, 0.1],\n",
    "                  kernel=['linear'],\n",
    "                  max_iter=[1e8],\n",
    "                  class_weight=['balanced'])\n",
    "param_grid_poly = dict(C=[1, 10],\n",
    "                  gamma = [0.001, 0.01, 0.1],\n",
    "                  kernel=['poly'],\n",
    "                  max_iter=[1e8],\n",
    "                  class_weight=['balanced'])\n",
    "param_grid_rbf = dict(C=[1, 10],\n",
    "                  gamma = [0.001, 0.01, 0.1],\n",
    "                  kernel=['rbf'],\n",
    "                  max_iter=[1e8],\n",
    "                  class_weight=['balanced'])\n",
    "\n",
    "# Define classifier\n",
    "clf_svm = SVC()\n",
    "# Scoring criterion\n",
    "roc = make_scorer(roc_auc_score)\n",
    "\n",
    "# Searching for best with grid search\n",
    "grid_lin = GridSearchCV(estimator=clf_svm,\n",
    "                    param_grid=param_grid_lin,\n",
    "                    scoring=roc,\n",
    "                    verbose=1,\n",
    "                    cv=5,\n",
    "                    n_jobs=-1)\n",
    "grid_poly = GridSearchCV(estimator=clf_svm,\n",
    "                    param_grid=param_grid_poly,\n",
    "                    scoring=roc,\n",
    "                    verbose=1,\n",
    "                    cv=5,\n",
    "                    n_jobs=-1)\n",
    "grid_rbf = GridSearchCV(estimator=clf_svm,\n",
    "                    param_grid=param_grid_rbf,\n",
    "                    scoring=roc,\n",
    "                    verbose=1,\n",
    "                    cv=5,\n",
    "                    n_jobs=-1)\n",
    "\n",
    "grid_result_svm_lin = grid_lin.fit(X_train, y_train)\n",
    "grid_result_svm_poly = grid_poly.fit(X_train, y_train)\n",
    "grid_result_svm_rbf = grid_rbf.fit(X_train, y_train)\n",
    "\n",
    "# Printing them all out\n",
    "print('Best Score for linear kernel:  ', grid_result_svm_lin.best_score_)\n",
    "print('Best Params for linear kernel: ', grid_result_svm_lin.best_params_)\n",
    "print('Best Score for polynomial kernel:  ', grid_result_svm_poly.best_score_)\n",
    "print('Best Params for polynomial kernel: ', grid_result_svm_poly.best_params_)\n",
    "print('Best Score for rbf kernel:  ', grid_result_svm_rbf.best_score_)\n",
    "print('Best Params for rbf kernel: ', grid_result_svm_rbf.best_params_)\n",
    "\n",
    "# Fitting on test data \n",
    "clf_svm_lin = SVC(**grid_result_svm_lin.best_params_).fit(X_train, y_train)\n",
    "clf_svm_poly = SVC(**grid_result_svm_poly.best_params_).fit(X_train, y_train)\n",
    "clf_svm_rbf = SVC(**grid_result_svm_rbf.best_params_).fit(X_train, y_train)\n",
    "\n",
    "y_test_score_lin = clf_svm_lin.decision_function(X_test)\n",
    "y_test_score_poly = clf_svm_poly.decision_function(X_test)\n",
    "y_test_score_rbf = clf_svm_rbf.decision_function(X_test)\n",
    "\n",
    "fpr_svm_lin, tpr_svm_lin, _ = roc_curve(y_test, y_test_score_lin)\n",
    "fpr_svm_poly, tpr_svm_poly, _ = roc_curve(y_test, y_test_score_poly)\n",
    "fpr_svm_rbf, tpr_svm_rbf, _ = roc_curve(y_test, y_test_score_rbf)\n",
    "\n",
    "auc_svm_lin = auc(fpr_svm_lin, tpr_svm_lin)\n",
    "auc_svm_poly = auc(fpr_svm_poly, tpr_svm_poly)\n",
    "auc_svm_rbf = auc(fpr_svm_rbf, tpr_svm_rbf)\n",
    "\n",
    "print('ROC AUC area for test data, linear kernel: {:.3f}'.format(auc_svm_lin))\n",
    "print('ROC AUC area for test data, polynomial kernel: {:.3f}'.format(auc_svm_poly))\n",
    "print('ROC AUC area for test data, rbf kernel: {:.3f}'.format(auc_svm_rbf))"
   ]
  },
  {
   "cell_type": "markdown",
   "id": "e157cacc",
   "metadata": {},
   "source": [
    "Looking at the results here, it seems that the rbf kernel performed best, with an ROC AUC area of 0.725 for test data. This makes relative sense, since the rbf kernel forms circular decision boundaries around data, so this would logically make it optimal for classification problems involving data that separate into well defined clusters. The linear kernel performed the worse, which makes sense, since it partitions space with a hyperplane, which is the most \"undynamic\" type of decision boundary. The polynomial performs in the middle: which is somewhat expected while unexpected, since it could potentially outperform the rbf in certain data sets. "
   ]
  },
  {
   "cell_type": "markdown",
   "id": "df52ac27",
   "metadata": {},
   "source": [
    "(ii) Based on the results from the previous step, try to optimize the classification perfor- mance of the SVM by choosing whatever parameters you could choose, and provide some rationale for these choices. Report your “optimized” ROC AUC on the test data."
   ]
  },
  {
   "cell_type": "code",
   "execution_count": 18,
   "id": "5b5915c3",
   "metadata": {},
   "outputs": [
    {
     "name": "stdout",
     "output_type": "stream",
     "text": [
      "Fitting 5 folds for each of 15 candidates, totalling 75 fits\n",
      "Best Score:   0.7067827879962439\n",
      "Best Params:  {'C': 5, 'class_weight': 'balanced', 'gamma': 0.1, 'kernel': 'rbf', 'max_iter': 100000000.0}\n",
      "Optimzed ROC AUC area for test data: 0.706\n"
     ]
    }
   ],
   "source": [
    "# Rationale for these choices of parameters: As I ran the grid search over and over again, it seemed that the gamma\n",
    "# value converged to an optimal value of 0.1 (0.1 was chosen regardless of the other candidates), and the C value\n",
    "# converged to an optimal value of 5, so then I narrowed the options down to the numbers closest to the converged values.\n",
    "# Grid search then continued to say that 5 and 0.1 were optimal values, so it must be optimal.\n",
    "param_grid = dict(C=[1, 4, 5, 6, 7],\n",
    "                  kernel=['rbf'],\n",
    "                  gamma = [0.05, 0.1, 0.15], \n",
    "                  max_iter=[1e8],\n",
    "                  class_weight=['balanced'])\n",
    "\n",
    "# Define classifier\n",
    "clf_svm = SVC()\n",
    "# Scoring criterion\n",
    "roc = make_scorer(roc_auc_score)\n",
    "\n",
    "# Searching for best with grid search\n",
    "grid = GridSearchCV(estimator=clf_svm,\n",
    "                    param_grid=param_grid,\n",
    "                    scoring=roc,\n",
    "                    verbose=1,\n",
    "                    cv=5,\n",
    "                    n_jobs=-1)\n",
    "\n",
    "grid_result_svm = grid.fit(X_train, y_train)\n",
    "\n",
    "print('Best Score:  ', grid_result_svm.best_score_)\n",
    "print('Best Params: ', grid_result_svm.best_params_)\n",
    "\n",
    "# Fitting on test data \n",
    "clf_svm = SVC(**grid_result_svm.best_params_).fit(X_train, y_train)\n",
    "y_test_score = clf_svm.decision_function(X_test)\n",
    "fpr_svm, tpr_svm, _ = roc_curve(y_test, y_test_score)\n",
    "auc_svm = auc(fpr_svm, tpr_svm)\n",
    "print('Optimzed ROC AUC area for test data: {:.3f}'.format(auc_svm))"
   ]
  },
  {
   "cell_type": "markdown",
   "id": "efaff297",
   "metadata": {},
   "source": [
    "(b) (Decision trees). For this part, you need to use a decision tree to predict default:\n",
    "(i) Grow a collection of trees by varying the maximum tree depth and the pruning param- eter. Try the grid search done in precept to see what combination seems to work well. For each tree, report accuracy (you should be using sklearn.tree.DecisionTreeClassifier for now rather than the random forest). Provide some intuition for your results. (E.g. why some trees appear to work better.)\n"
   ]
  },
  {
   "cell_type": "code",
   "execution_count": 36,
   "id": "2c6f28a9",
   "metadata": {},
   "outputs": [
    {
     "name": "stdout",
     "output_type": "stream",
     "text": [
      "Train accuracy is: 0.8224583333333333\n",
      "Test accuracy is: 0.8191666666666667\n",
      "Train accuracy is: 0.7792083333333333\n",
      "Test accuracy is: 0.7771666666666667\n",
      "Train accuracy is: 0.7792083333333333\n",
      "Test accuracy is: 0.7771666666666667\n",
      "Train accuracy is: 0.7792083333333333\n",
      "Test accuracy is: 0.7771666666666667\n",
      "Fitting 5 folds for each of 16 candidates, totalling 80 fits\n",
      "Best Score:   0.6620726732118593\n",
      "Best Params:  {'ccp_alpha': 0.0001, 'max_depth': 5}\n",
      "Train accuracy is: 0.8220833333333334\n",
      "Test accuracy is: 0.8198333333333333\n"
     ]
    }
   ],
   "source": [
    "# Growing a collection of Trees (Doing 4 Trees for now)\n",
    "clf_tree = DecisionTreeClassifier(max_depth=5, ccp_alpha=0.00001).fit(X_train, y_train)\n",
    "y_pred = clf_tree.predict(X_test)\n",
    "print('Train accuracy is: ' + str(accuracy_score(y_train, clf_tree.predict(X_train))))\n",
    "print('Test accuracy is: ' + str(accuracy_score(y_test, y_pred)))\n",
    "\n",
    "clf_tree = DecisionTreeClassifier(max_depth=50, ccp_alpha=0.1).fit(X_train, y_train)\n",
    "y_pred = clf_tree.predict(X_test)\n",
    "print('Train accuracy is: ' + str(accuracy_score(y_train, clf_tree.predict(X_train))))\n",
    "print('Test accuracy is: ' + str(accuracy_score(y_test, y_pred)))\n",
    "\n",
    "clf_tree = DecisionTreeClassifier(max_depth=10, ccp_alpha=1).fit(X_train, y_train)\n",
    "y_pred = clf_tree.predict(X_test)\n",
    "print('Train accuracy is: ' + str(accuracy_score(y_train, clf_tree.predict(X_train))))\n",
    "print('Test accuracy is: ' + str(accuracy_score(y_test, y_pred)))\n",
    "\n",
    "clf_tree = DecisionTreeClassifier(max_depth=50, ccp_alpha=0.1).fit(X_train, y_train)\n",
    "y_pred = clf_tree.predict(X_test)\n",
    "print('Train accuracy is: ' + str(accuracy_score(y_train, clf_tree.predict(X_train))))\n",
    "print('Test accuracy is: ' + str(accuracy_score(y_test, y_pred)))\n",
    "\n",
    "\n",
    "# Seeing what parameters actually work well with Grid Search\n",
    "param_grid = dict(max_depth=[10, 20, 30],\n",
    "                  ccp_alpha=[0.00001,0.0001, 0.001],\n",
    "                    min_samples_leaf=[])\n",
    "\n",
    "# Define classifier\n",
    "clf_tree = DecisionTreeClassifier()\n",
    "# Scoring criterion\n",
    "roc = make_scorer(roc_auc_score)\n",
    "\n",
    "# Searching for best with grid search\n",
    "grid = GridSearchCV(estimator=clf_tree,\n",
    "                    param_grid=param_grid,\n",
    "                    scoring=roc,\n",
    "                    verbose=1,\n",
    "                    cv=5,\n",
    "                    n_jobs=-1)\n",
    "\n",
    "grid_result_tree = grid.fit(X_train, y_train)\n",
    "\n",
    "print('Best Score:  ', grid_result_tree.best_score_)\n",
    "print('Best Params: ', grid_result_tree.best_params_)\n",
    "\n",
    "clf_tree = DecisionTreeClassifier(**grid_result_tree.best_params_).fit(X_train, y_train)\n",
    "\n",
    "# We are comparing y_test vs y_pred here\n",
    "y_pred = clf_tree.predict(X_test)\n",
    "print('Train accuracy is: ' + str(accuracy_score(y_train, clf_tree.predict(X_train))))\n",
    "print('Test accuracy is: ' + str(accuracy_score(y_test, y_pred)))"
   ]
  },
  {
   "cell_type": "markdown",
   "id": "ae4d323d",
   "metadata": {},
   "source": [
    "According to the results, the best parameters for the formation of the decisions trees was when ccp_alpha was 1e-4, and min_samples_leaf was 20. The ccp_alpha optimal value was relatively close-ish to zero: which means that a smaller portion of the tree was pruned, leading to a decision tree that generalizes a bit on the less side, which could be beneficial for the given distribution of the data. The most optimal max_depth seemed to be 5, which is on the less side: which could make sense given our data if it was in a more clustered distribution, therefore, it would be better not to make very deep decision trees with lots of splits, as it could lead to overfitting. As for the test trees we did, it seemed that the trees with low depth and low ccp did the best, which leads to a somewhat general split, which could be good for the distrubtion of our data set. "
   ]
  },
  {
   "cell_type": "markdown",
   "id": "7c6b842d",
   "metadata": {},
   "source": [
    "(ii) Find the maximum tree depth and pruning parameter that maximise the recall instead. Provide some intuition for why we may want to consider recall in place of accuracy."
   ]
  },
  {
   "cell_type": "code",
   "execution_count": 9,
   "id": "24a129b9",
   "metadata": {},
   "outputs": [
    {
     "name": "stdout",
     "output_type": "stream",
     "text": [
      "Fitting 5 folds for each of 9 candidates, totalling 45 fits\n",
      "Best Score:   0.3793204696491885\n",
      "Best Params:  {'ccp_alpha': 1e-05, 'min_samples_leaf': 20}\n",
      "Train recall is: 0.382902434421589\n",
      "Test recall is: 0.3679880329094989\n"
     ]
    }
   ],
   "source": [
    "param_grid = dict(min_samples_leaf=[5, 10, 20],\n",
    "                  ccp_alpha=[0,0.00001,0.0001])\n",
    "\n",
    "# Define classifier\n",
    "clf_tree = DecisionTreeClassifier()\n",
    "\n",
    "# Searching for best with grid search\n",
    "grid = GridSearchCV(estimator=clf_tree,\n",
    "                    param_grid=param_grid,\n",
    "                    scoring=\"recall\",\n",
    "                    verbose=1,\n",
    "                    cv=5,\n",
    "                    n_jobs=-1)\n",
    "\n",
    "grid_result_tree = grid.fit(X_train, y_train)\n",
    "\n",
    "print('Best Score:  ', grid_result_tree.best_score_)\n",
    "print('Best Params: ', grid_result_tree.best_params_)\n",
    "\n",
    "clf_tree = DecisionTreeClassifier(**grid_result_tree.best_params_).fit(X_train, y_train)\n",
    "\n",
    "# We are comparing y_test vs y_pred here\n",
    "y_pred = clf_tree.predict(X_test)\n",
    "print('Train recall is: ' + str(recall_score(y_train, clf_tree.predict(X_train))))\n",
    "print('Test recall is: ' + str(recall_score(y_test, y_pred)))"
   ]
  },
  {
   "cell_type": "markdown",
   "id": "40d50f81",
   "metadata": {},
   "source": [
    "We may want to consider recall instead of accuracy because sometimes we want to value each outcome equally instead of focusing on one type of outcome over another: where both false negatives and true positives must be equally regarded. In this situation, it would make more sense to use recall, since we really really want to find people who will default, even at the expense of classifying more people as willing to default. "
   ]
  },
  {
   "cell_type": "markdown",
   "id": "bbb583c8",
   "metadata": {},
   "source": [
    "(iii) Explain the difference between a random forest and a decision tree.\n",
    "\n",
    "Although both are types of trees, it uses different algorithms to generate the trees. \n",
    "A decision tree usually implements a more greedy heuristic to find the most optimal decision tree by making locally optimized decisions: it looks for the split at each node that minimizes the classification error rate (fraction of training observations in a given region that doesn't belong to the most common class).\n",
    "A random tree is a more optimized algorithm offers the potential to make seemingly useless splits early on, but very useful splits later. It takes a random sample of m out of the total n predictors, and only uses those for splitting in a similar process to the decision tree process described above. (Forces tree to consider otherwise seemingly pointless predictors)"
   ]
  },
  {
   "cell_type": "markdown",
   "id": "26fbfd30",
   "metadata": {},
   "source": [
    "Using an aggregation technique (such as random forest or boosting), attempt to optimize the classification performance of your model. You may use any skills/tricks that you believe may help so long as the basic model remains a decision tree. Plot the ROC curve and calculate the area under the ROC curve for your “optimized” model."
   ]
  },
  {
   "cell_type": "code",
   "execution_count": 38,
   "id": "b30307f5",
   "metadata": {},
   "outputs": [
    {
     "name": "stdout",
     "output_type": "stream",
     "text": [
      "Fitting 5 folds for each of 9 candidates, totalling 45 fits\n",
      "Best Score:   0.6622216654539967\n",
      "Best Params:  {'learning_rate': 0.2, 'n_estimators': 1000}\n"
     ]
    },
    {
     "data": {
      "image/png": "[encoded data removed]",
      "text/plain": [
       "<Figure size 432x288 with 1 Axes>"
      ]
     },
     "metadata": {
      "needs_background": "light"
     },
     "output_type": "display_data"
    }
   ],
   "source": [
    "param_grid = dict(n_estimators=[500, 1000, 1500],\n",
    "                  learning_rate=[0.05, 0.1, 0.2]\n",
    "             )\n",
    "\n",
    "# Define classifier\n",
    "dtc = DecisionTreeClassifier()\n",
    "clf_tree = AdaBoostClassifier(base_estimator = dtc)\n",
    "# Scoring criterion\n",
    "roc = make_scorer(roc_auc_score)\n",
    "\n",
    "# Searching for best with grid search\n",
    "grid = GridSearchCV(estimator=clf_tree,\n",
    "                    param_grid=param_grid,\n",
    "                    scoring=roc,\n",
    "                    verbose=1,\n",
    "                    cv=5,\n",
    "                    n_jobs=-1)\n",
    "\n",
    "grid_result_tree = grid.fit(X_train, y_train)\n",
    "\n",
    "print('Best Score:  ', grid_result_tree.best_score_)\n",
    "print('Best Params: ', grid_result_tree.best_params_)\n",
    "\n",
    "# Plot the ROC and compare\n",
    "clf_tree = AdaBoostClassifier(**grid_result_tree.best_params_).fit(X_train, y_train)\n",
    "y_pred_tree = clf_tree.predict_proba(X_test)\n",
    "fpr_tree, tpr_tree, _ = roc_curve(y_test, y_pred_tree[:,1])\n",
    "auc_tree = auc(fpr_tree, tpr_tree)\n",
    "\n",
    "plt.figure(1)\n",
    "plt.plot([0, 1], [0, 1], '--')\n",
    "plt.plot(fpr_tree, tpr_tree, label='Tree (area = {:.3f})'.format(auc_tree))\n",
    "plt.xlabel('False positive rate')\n",
    "plt.ylabel('True positive rate')\n",
    "plt.title('ROC curve')\n",
    "plt.legend(loc='best')\n",
    "plt.show()"
   ]
  },
  {
   "cell_type": "markdown",
   "id": "087873ab",
   "metadata": {},
   "source": [
    "(c) Compare the performance of the logistic regression (from homework 1), decision tree models (including single tree model, random forests, and other tree based models), and SVM in terms of accuracy/precision/recall and ROC. Briefly comment on the differences that you find."
   ]
  },
  {
   "cell_type": "code",
   "execution_count": 29,
   "id": "7e32f06a",
   "metadata": {},
   "outputs": [
    {
     "name": "stdout",
     "output_type": "stream",
     "text": [
      "0.7334143244186999\n",
      "Train accuracy is: 0.8209583333333333\n",
      "Test accuracy is: 0.82\n",
      "Train recall is: 0.36270994527269296\n",
      "Test recall is: 0.3537771129394166\n"
     ]
    }
   ],
   "source": [
    "# Obtaining the accuracy, recall and AUC ROC of the logistic regression: (precision is omitted due to low relevance)\n",
    "clf_logit = LogisticRegression().fit(X_train, y_train)\n",
    "y_pred = clf_tree.predict(X_test)\n",
    "fpr, tpr, _ = roc_curve(y_test, y_pred_tree[:,1])\n",
    "auc_logit = auc(fpr, tpr)\n",
    "print(auc_logit)\n",
    "\n",
    "print('Train accuracy is: ' + str(accuracy_score(y_train, clf_tree.predict(X_train))))\n",
    "print('Test accuracy is: ' + str(accuracy_score(y_test, y_pred)))\n",
    "print('Train recall is: ' + str(recall_score(y_train, clf_tree.predict(X_train))))\n",
    "print('Test recall is: ' + str(recall_score(y_test, y_pred)))"
   ]
  },
  {
   "cell_type": "markdown",
   "id": "debac1a5",
   "metadata": {},
   "source": [
    "In comparison to the logistic regression model on this data set, The train and test accuracy of the single tree model, SVM, and the boosted model all performed relatively similarly. I believe the reason for this is because I omitted alot of the data due to run time issues, and only focused on the 5 most important variables. Since the 5 most correlated variables happened to all be the history of past payment and are all similar to each other, this means that no matter how the variety of classification methods tried to optimize, the lack of variation in the predictor variables made it difficult to optimize past a threshold point, which can be seen as most of the optimized values of AUC ROC, accuracy, and even recall converge to around the same value. "
   ]
  },
  {
   "cell_type": "code",
   "execution_count": null,
   "id": "0a9eb255",
   "metadata": {},
   "outputs": [],
   "source": []
  }
 ],
 "metadata": {
  "kernelspec": {
   "display_name": "Python 3",
   "language": "python",
   "name": "python3"
  },
  "language_info": {
   "codemirror_mode": {
    "name": "ipython",
    "version": 3
   },
   "file_extension": ".py",
   "mimetype": "text/x-python",
   "name": "python",
   "nbconvert_exporter": "python",
   "pygments_lexer": "ipython3",
   "version": "3.8.8"
  }
 },
 "nbformat": 4,
 "nbformat_minor": 5
}
